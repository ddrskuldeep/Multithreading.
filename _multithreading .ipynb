{
 "cells": [
  {
   "cell_type": "markdown",
   "id": "ffbc5b18-6115-4b85-86e2-1c1ccbc99800",
   "metadata": {},
   "source": [
    "Q1. what is multithreading in python? why is it used? Name the module used to handle threads in python"
   ]
  },
  {
   "cell_type": "markdown",
   "id": "c1853781-655a-42a2-b80a-6cacaecf4176",
   "metadata": {},
   "source": [
    "Ans:- Multithreading is a technique in which multiple threads are created within a process to execute multiple tasks concurrently. In Python, the threading module provides a simple and intuitive API for spawning multiple threads in a program.\n",
    "Multithreading is used to achieve multitasking, where multiple tasks are executed simultaneously. It is particularly useful when dealing with I/O-bound tasks, such as reading and writing to files or network sockets, where the CPU is idle while waiting for I/O operations to complete. By using multithreading, we can make better use of the CPU by allowing other threads to execute while one thread is waiting for I/O operations to complete.\n",
    "The threading module is used to handle threads in Python. It provides a higher-level interface for creating and managing threads than the lower-level _thread module."
   ]
  },
  {
   "cell_type": "markdown",
   "id": "908b0ab5-f1d3-4b0d-b2bb-456b4765f109",
   "metadata": {},
   "source": [
    "Q2. why threading module used? write the use of the following functions\n",
    "\n",
    "1. activeCount()\n",
    "2. currentThread ()\n",
    "3. enumerate ()"
   ]
  },
  {
   "cell_type": "markdown",
   "id": "7cc3ff7f-8a89-4a19-8989-f6656c2dbbec",
   "metadata": {},
   "source": [
    "Ans:- The threading module in Python is used for creating, controlling, and managing threads. Threads are units of execution that can run concurrently in a program. The threading module provides functions and object types for working with threads. It also includes a locking mechanism that allows threads to synchronize access to shared resources. The threading module wraps the thread module, which is a low-level interface to the Python virtual machine. The Python virtual machine uses the Global Interpreter Lock (GIL) to prevent multiple threads from running at the same time on multiprocessors. To create a new thread, use the Thread(function, args) constructor and call the start() method.\n",
    "\n",
    "\n",
    "The active_count():- function is a built-in method of the threading module in Python. It is used to return the number of Thread objects that are active at any instant. The return type of this method is <class 'int'>, and it returns the number of active Thread class objects at any instant. Another method, threading.activeCount(), can also be used to return the number of Thread objects currently alive.\n",
    "\n",
    "The current_thread():- function is a built-in method of the threading module in Python. It is used to return the current Thread object, which corresponds to the caller’s thread of control. The return type of this method is a Thread class object, and it returns the current Thread object active at the moment. You can use this function to access details like the name of the thread via the name property. The threading module also provides additiona methods like threading.activeCount() and threading.currentThread().\n",
    "If you want to get the main thread object in Python, you can use the threading.main_thread() function. This function returns the main thread object, which is typically the thread from which the Python interpreter was started\n",
    "\n",
    "The enumerate():- function in Python is used to simplify the iteration process by removing the need for manual index management. It is a built-in function that adds a counter to an iterable object and returns it as an enumerating object. This enumerated object can then be used directly for loops or converted into a list of tuples using the list() function.\n"
   ]
  },
  {
   "cell_type": "code",
   "execution_count": null,
   "id": "9dc1a2a9-0569-41a9-8042-93f6c006aec7",
   "metadata": {},
   "outputs": [],
   "source": [
    "Q3. Explain the following functions\n",
    "1 run()\n",
    "2 start()\n",
    "3 join()\n",
    "4 isAlive()"
   ]
  },
  {
   "cell_type": "markdown",
   "id": "74147117-9f79-4956-bcb0-291b0b921e4f",
   "metadata": {},
   "source": [
    "ANS:- 1.RUN() The run() function is not a built-in function in Python. However, there are several functions that have similar names, such as exec(), eval(), and compile().\n",
    "The exec() function is used for the dynamic execution of Python programs, which can either be a string or object code. If it is a string, the string is parsed as a suite of Python statements, which is then executed unless a syntax error occurs. If it is an object code, it is simply executed.\n",
    "The eval() function is used to evaluate a single expression in a string and returns the result of the expression. It raises an exception if the input isn’t a valid expression .\n",
    "The compile() function is used to compile source code into bytecode. It returns a code object that can be executed by the exec() or eval() functions .\n",
    "\n",
    " 2 . Stat() The start() function is not a built-in function in Python. However, there are several functions and methods in Python that have the name start(). Here are a few examples.\n",
    "1 . Function Definition: You can define your own function in Python using the def keyword. Here’s an example of a simple function called my_function() that prints “Hello from a function” when called.\n",
    "\n",
    "2 .Thread Start Method: In Python’s threading module, when you create a thread instance, it doesn’t start executing until its start() method is invoked.This method invokes the target function with the arguments you supplied and executes the thread in its own system-level thread.\n",
    "3 .String Startswith Method: The startswith() method in Python is used to check if a string starts with a specified prefix3. It returns True if the string starts with the specified prefix; otherwise, it returns False.\n",
    "\n",
    "3 Join().The join() function is an inbuilt string method in Python that is used to join elements of a sequence separated by a string separator. It concatenates the elements of the sequence and returns a string.\n",
    "\n",
    "4 isalive():- is_alive method is a built-in method of the Thread class in the threading module of Python. It is used to check whether a thread is still running or not. The method returns True if the thread is still running and False otherwise."
   ]
  },
  {
   "cell_type": "markdown",
   "id": "56e7ab93-7420-415c-adee-abbc2322b00e",
   "metadata": {},
   "source": [
    "Q4. write a python program to create two threads. Thread one must print the list of squares and thread\n",
    "two must print the list of cubes."
   ]
  },
  {
   "cell_type": "code",
   "execution_count": 3,
   "id": "1e13d313-7e34-4fe9-ab04-dd6799de023d",
   "metadata": {},
   "outputs": [
    {
     "name": "stdout",
     "output_type": "stream",
     "text": [
      "Square of 1 is 1\n",
      "Square of 2 is 4\n",
      "Square of 3 is 9\n",
      "Square of 4 is 16\n",
      "Square of 5 is 25\n",
      "Square of 6 is 36\n",
      "Square of 7 is 49\n",
      "Square of 8 is 64\n",
      "Square of 9 is 81\n",
      "Square of 10 is 100\n",
      "Cube of 1 is 1\n",
      "Cube of 2 is 8\n",
      "Cube of 3 is 27\n",
      "Cube of 4 is 64\n",
      "Cube of 5 is 125\n",
      "Cube of 6 is 216\n",
      "Cube of 7 is 343\n",
      "Cube of 8 is 512\n",
      "Cube of 9 is 729\n",
      "Cube of 10 is 1000\n"
     ]
    }
   ],
   "source": [
    "#Ans:-\n",
    "\n",
    "import threading\n",
    "\n",
    "def print_squares():\n",
    "    for i in range(1, 11):\n",
    "        print(f\"Square of {i} is {i ** 2}\")\n",
    "\n",
    "def print_cubes():\n",
    "    for i in range(1, 11):\n",
    "        print(f\"Cube of {i} is {i ** 3}\")\n",
    "\n",
    "# Create two threads\n",
    "thread1 = threading.Thread(target=print_squares)\n",
    "thread2 = threading.Thread(target=print_cubes)\n",
    "\n",
    "# Start the threads\n",
    "thread1.start()\n",
    "thread2.start()\n",
    "\n",
    "# Wait for both threads to finish\n",
    "thread1.join()\n",
    "thread2.join()\n"
   ]
  },
  {
   "cell_type": "markdown",
   "id": "7e886bf6-80ef-4ded-a959-ba3749a2c555",
   "metadata": {},
   "source": [
    "Q5. State advantages and disadvantages of multithreading."
   ]
  },
  {
   "cell_type": "markdown",
   "id": "40f5cea7-9ac5-450b-bd85-673c77ac0b4f",
   "metadata": {},
   "source": [
    "Ans:-  Multithreading is a programming concept that allows multiple threads to execute concurrently within a single program. It offers several advantages and disadvantages. Here are some of them:\n",
    "\n",
    "Advantages:\n",
    "\n",
    "1 .Enhanced performance:- Multithreading can improve the overall performance of an application, especially on systems with multiple processors or cores.\n",
    "\n",
    "2 .Simplified and streamlined program coding: By breaking up a task into smaller units that can be executed concurrently, multithreading can make program coding more manageable.\n",
    "\n",
    "3 .Improved GUI responsiveness: Multithreading can help keep the user interface responsive even when performing computationally intensive tasks.\n",
    "\n",
    "4 .Simultaneous and parallelized occurrence of tasks: Multithreading allows multiple tasks to run concurrently, which can lead to faster execution times.\n",
    "\n",
    "5 .Better use of cache storage by utilization of resources: Multithreading can help optimize the use of cache storage by utilizing resources more efficiently.\n",
    "\n",
    "6 .Decreased cost of maintenance: By utilizing multithreading, developers can create more efficient programs that require less maintenance.\n",
    "\n",
    "7 .Better use of CPU resource: Multithreading allows for better utilization of CPU resources, as multiple threads can execute simultaneously.\n",
    "\n",
    "Disadvantages:\n",
    "\n",
    "1 Complex debugging and testing processes: With more threads, the code becomes more complex, making debugging and testing more challenging.\n",
    "\n",
    "2 Overhead switching of context: Context switching between threads can introduce overhead and reduce performance.\n",
    "\n",
    "3 Increased potential for deadlock occurrence: Multithreading increases the likelihood of deadlocks, which are situations where two or more threads are blocked indefinitely, waiting for each other to release resources.\n",
    "\n",
    "4 Increased difficulty level in writing a program: Writing a multithreaded program requires careful consideration and synchronization to avoid issues such as race conditions and deadlocks.\n",
    "\n",
    "5 Unpredictable results: Multithreading introduces non-determinism into the program execution, which can lead to unpredictable results if not handled properly.\n",
    "\n",
    "these are just some common advantages and disadvantages of multithreading. The specific benefits and drawbacks may vary depending on the programming language and context."
   ]
  },
  {
   "cell_type": "markdown",
   "id": "cf5d9195-3e2b-45c4-86cc-5eed2339e13d",
   "metadata": {},
   "source": [
    "Q6. Explain deadlocks and race conditions."
   ]
  },
  {
   "cell_type": "markdown",
   "id": "fc1549c2-706e-4a8a-8cc9-547ef872857c",
   "metadata": {},
   "source": [
    "Ans:- Race conditions and deadlocks are two important concepts in Python programming.\n",
    "\n",
    "1 Race conditions: A race condition occurs when two or more threads or processes try to access a shared resource simultaneously, leading to unpredictable outcomes. For example, if two threads try to modify the same variable at the same time, the final value of the variable may depend on which thread completes its update last. To prevent race conditions in Python, you can use a threading lock. A threading lock is a synchronization primitive that provides exclusive access to a shared resource in a multithreaded application.\n",
    "\n",
    "2 Deadlocks: A deadlock is a concurrency failure mode where two or more threads or processes wait for each other to release resources that they hold, resulting in a situation where none of them can proceed. In Python, you can avoid deadlocks by following best practices when using concurrency, such as using context managers when acquiring and releasing locks and using timeouts when waiting.\n"
   ]
  },
  {
   "cell_type": "code",
   "execution_count": null,
   "id": "6fdf8301-c559-411d-9cbe-f86600be7014",
   "metadata": {},
   "outputs": [],
   "source": []
  }
 ],
 "metadata": {
  "kernelspec": {
   "display_name": "Python 3 (ipykernel)",
   "language": "python",
   "name": "python3"
  },
  "language_info": {
   "codemirror_mode": {
    "name": "ipython",
    "version": 3
   },
   "file_extension": ".py",
   "mimetype": "text/x-python",
   "name": "python",
   "nbconvert_exporter": "python",
   "pygments_lexer": "ipython3",
   "version": "3.10.8"
  }
 },
 "nbformat": 4,
 "nbformat_minor": 5
}
